{
 "cells": [
  {
   "cell_type": "code",
   "execution_count": 230,
   "metadata": {},
   "outputs": [],
   "source": [
    "import numpy as np\n",
    "import pandas as pd\n",
    "import matplotlib.pyplot as plt"
   ]
  },
  {
   "cell_type": "code",
   "execution_count": 231,
   "metadata": {},
   "outputs": [
    {
     "data": {
      "text/html": [
       "<div>\n",
       "<style scoped>\n",
       "    .dataframe tbody tr th:only-of-type {\n",
       "        vertical-align: middle;\n",
       "    }\n",
       "\n",
       "    .dataframe tbody tr th {\n",
       "        vertical-align: top;\n",
       "    }\n",
       "\n",
       "    .dataframe thead th {\n",
       "        text-align: right;\n",
       "    }\n",
       "</style>\n",
       "<table border=\"1\" class=\"dataframe\">\n",
       "  <thead>\n",
       "    <tr style=\"text-align: right;\">\n",
       "      <th></th>\n",
       "      <th>label</th>\n",
       "      <th>pixel0</th>\n",
       "      <th>pixel1</th>\n",
       "      <th>pixel2</th>\n",
       "      <th>pixel3</th>\n",
       "      <th>pixel4</th>\n",
       "      <th>pixel5</th>\n",
       "      <th>pixel6</th>\n",
       "      <th>pixel7</th>\n",
       "      <th>pixel8</th>\n",
       "      <th>...</th>\n",
       "      <th>pixel774</th>\n",
       "      <th>pixel775</th>\n",
       "      <th>pixel776</th>\n",
       "      <th>pixel777</th>\n",
       "      <th>pixel778</th>\n",
       "      <th>pixel779</th>\n",
       "      <th>pixel780</th>\n",
       "      <th>pixel781</th>\n",
       "      <th>pixel782</th>\n",
       "      <th>pixel783</th>\n",
       "    </tr>\n",
       "  </thead>\n",
       "  <tbody>\n",
       "    <tr>\n",
       "      <th>0</th>\n",
       "      <td>1</td>\n",
       "      <td>0</td>\n",
       "      <td>0</td>\n",
       "      <td>0</td>\n",
       "      <td>0</td>\n",
       "      <td>0</td>\n",
       "      <td>0</td>\n",
       "      <td>0</td>\n",
       "      <td>0</td>\n",
       "      <td>0</td>\n",
       "      <td>...</td>\n",
       "      <td>0</td>\n",
       "      <td>0</td>\n",
       "      <td>0</td>\n",
       "      <td>0</td>\n",
       "      <td>0</td>\n",
       "      <td>0</td>\n",
       "      <td>0</td>\n",
       "      <td>0</td>\n",
       "      <td>0</td>\n",
       "      <td>0</td>\n",
       "    </tr>\n",
       "    <tr>\n",
       "      <th>1</th>\n",
       "      <td>0</td>\n",
       "      <td>0</td>\n",
       "      <td>0</td>\n",
       "      <td>0</td>\n",
       "      <td>0</td>\n",
       "      <td>0</td>\n",
       "      <td>0</td>\n",
       "      <td>0</td>\n",
       "      <td>0</td>\n",
       "      <td>0</td>\n",
       "      <td>...</td>\n",
       "      <td>0</td>\n",
       "      <td>0</td>\n",
       "      <td>0</td>\n",
       "      <td>0</td>\n",
       "      <td>0</td>\n",
       "      <td>0</td>\n",
       "      <td>0</td>\n",
       "      <td>0</td>\n",
       "      <td>0</td>\n",
       "      <td>0</td>\n",
       "    </tr>\n",
       "    <tr>\n",
       "      <th>2</th>\n",
       "      <td>1</td>\n",
       "      <td>0</td>\n",
       "      <td>0</td>\n",
       "      <td>0</td>\n",
       "      <td>0</td>\n",
       "      <td>0</td>\n",
       "      <td>0</td>\n",
       "      <td>0</td>\n",
       "      <td>0</td>\n",
       "      <td>0</td>\n",
       "      <td>...</td>\n",
       "      <td>0</td>\n",
       "      <td>0</td>\n",
       "      <td>0</td>\n",
       "      <td>0</td>\n",
       "      <td>0</td>\n",
       "      <td>0</td>\n",
       "      <td>0</td>\n",
       "      <td>0</td>\n",
       "      <td>0</td>\n",
       "      <td>0</td>\n",
       "    </tr>\n",
       "    <tr>\n",
       "      <th>3</th>\n",
       "      <td>4</td>\n",
       "      <td>0</td>\n",
       "      <td>0</td>\n",
       "      <td>0</td>\n",
       "      <td>0</td>\n",
       "      <td>0</td>\n",
       "      <td>0</td>\n",
       "      <td>0</td>\n",
       "      <td>0</td>\n",
       "      <td>0</td>\n",
       "      <td>...</td>\n",
       "      <td>0</td>\n",
       "      <td>0</td>\n",
       "      <td>0</td>\n",
       "      <td>0</td>\n",
       "      <td>0</td>\n",
       "      <td>0</td>\n",
       "      <td>0</td>\n",
       "      <td>0</td>\n",
       "      <td>0</td>\n",
       "      <td>0</td>\n",
       "    </tr>\n",
       "    <tr>\n",
       "      <th>4</th>\n",
       "      <td>0</td>\n",
       "      <td>0</td>\n",
       "      <td>0</td>\n",
       "      <td>0</td>\n",
       "      <td>0</td>\n",
       "      <td>0</td>\n",
       "      <td>0</td>\n",
       "      <td>0</td>\n",
       "      <td>0</td>\n",
       "      <td>0</td>\n",
       "      <td>...</td>\n",
       "      <td>0</td>\n",
       "      <td>0</td>\n",
       "      <td>0</td>\n",
       "      <td>0</td>\n",
       "      <td>0</td>\n",
       "      <td>0</td>\n",
       "      <td>0</td>\n",
       "      <td>0</td>\n",
       "      <td>0</td>\n",
       "      <td>0</td>\n",
       "    </tr>\n",
       "  </tbody>\n",
       "</table>\n",
       "<p>5 rows × 785 columns</p>\n",
       "</div>"
      ],
      "text/plain": [
       "   label  pixel0  pixel1  pixel2  pixel3  pixel4  pixel5  pixel6  pixel7  \\\n",
       "0      1       0       0       0       0       0       0       0       0   \n",
       "1      0       0       0       0       0       0       0       0       0   \n",
       "2      1       0       0       0       0       0       0       0       0   \n",
       "3      4       0       0       0       0       0       0       0       0   \n",
       "4      0       0       0       0       0       0       0       0       0   \n",
       "\n",
       "   pixel8  ...  pixel774  pixel775  pixel776  pixel777  pixel778  pixel779  \\\n",
       "0       0  ...         0         0         0         0         0         0   \n",
       "1       0  ...         0         0         0         0         0         0   \n",
       "2       0  ...         0         0         0         0         0         0   \n",
       "3       0  ...         0         0         0         0         0         0   \n",
       "4       0  ...         0         0         0         0         0         0   \n",
       "\n",
       "   pixel780  pixel781  pixel782  pixel783  \n",
       "0         0         0         0         0  \n",
       "1         0         0         0         0  \n",
       "2         0         0         0         0  \n",
       "3         0         0         0         0  \n",
       "4         0         0         0         0  \n",
       "\n",
       "[5 rows x 785 columns]"
      ]
     },
     "execution_count": 231,
     "metadata": {},
     "output_type": "execute_result"
    }
   ],
   "source": [
    "df = pd.read_csv(r\"E:\\MNIST Dataset\\train.csv\")\n",
    "df.head()"
   ]
  },
  {
   "cell_type": "code",
   "execution_count": 232,
   "metadata": {},
   "outputs": [
    {
     "name": "stdout",
     "output_type": "stream",
     "text": [
      "0\n"
     ]
    },
    {
     "data": {
      "image/png": "[encoded data removed]",
      "text/plain": [
       "<Figure size 640x480 with 1 Axes>"
      ]
     },
     "metadata": {},
     "output_type": "display_data"
    }
   ],
   "source": [
    "image_sample = np.reshape(df.iloc[5, 1:], (28, 28))\n",
    "plt.imshow(image_sample)\n",
    "print(df['label'][5])"
   ]
  },
  {
   "cell_type": "code",
   "execution_count": 233,
   "metadata": {},
   "outputs": [
    {
     "name": "stdout",
     "output_type": "stream",
     "text": [
      "(42000, 785)\n"
     ]
    }
   ],
   "source": [
    "data = np.array(df)\n",
    "print(data.shape)"
   ]
  },
  {
   "cell_type": "code",
   "execution_count": 234,
   "metadata": {},
   "outputs": [],
   "source": [
    "np.random.shuffle(data)\n",
    "train_data = data[:41000].T\n",
    "X_train = train_data[1:]\n",
    "y_train = train_data[0]\n",
    "dev_data = data[41000:].T\n",
    "X_dev = dev_data[1: ]\n",
    "y_dev = dev_data[0]"
   ]
  },
  {
   "cell_type": "code",
   "execution_count": 235,
   "metadata": {},
   "outputs": [],
   "source": [
    "X_train = X_train / 255.\n",
    "X_dev = X_dev / 255."
   ]
  },
  {
   "cell_type": "code",
   "execution_count": 236,
   "metadata": {},
   "outputs": [],
   "source": [
    "def init_params():\n",
    "    W1 = np.random.rand(10, 784) - 0.5\n",
    "    b1 = np.random.rand(10, 1) - 0.5\n",
    "    W2 = np.random.rand(10, 10) - 0.5\n",
    "    b2 = np.random.rand(10, 1) - 0.5\n",
    "    return W1, b1, W2, b2"
   ]
  },
  {
   "cell_type": "code",
   "execution_count": 237,
   "metadata": {},
   "outputs": [],
   "source": [
    "def ReLU(Z):\n",
    "    return np.maximum(0, Z)\n",
    "\n",
    "def softmax(Z):\n",
    "    return np.exp(Z) / np.sum(np.exp(Z), axis=0, keepdims=True)"
   ]
  },
  {
   "cell_type": "code",
   "execution_count": 238,
   "metadata": {},
   "outputs": [],
   "source": [
    "def forward_prop(X, W1, b1, W2, b2):\n",
    "    Z1 = np.dot(W1, X) + b1\n",
    "    A1 = ReLU(Z1)\n",
    "    Z2 = np.dot(W2, A1) + b2\n",
    "    A2 = softmax(Z2)\n",
    "    return Z1, A1, Z2, A2"
   ]
  },
  {
   "cell_type": "code",
   "execution_count": 239,
   "metadata": {},
   "outputs": [],
   "source": [
    "def one_hot(y):\n",
    "    one_hot_y = np.zeros((y.size, y.max()+1))\n",
    "    one_hot_y[np.arange(y.size), y] = 1\n",
    "    one_hot_y = one_hot_y.T\n",
    "    return one_hot_y"
   ]
  },
  {
   "cell_type": "code",
   "execution_count": 240,
   "metadata": {},
   "outputs": [],
   "source": [
    "def ReLU_derivative(Z):\n",
    "    return Z>0"
   ]
  },
  {
   "cell_type": "code",
   "execution_count": 241,
   "metadata": {},
   "outputs": [],
   "source": [
    "def backprop(Z1, A1, Z2, A2, W2, X, y):\n",
    "    m = y.size\n",
    "    one_hot_y = one_hot(y)\n",
    "    dZ2 = A2 - one_hot_y\n",
    "    dW2 = (1/m)*np.dot(dZ2, A1.T)\n",
    "    db2 = (1/m)*np.sum(dZ2, axis=1, keepdims=True)\n",
    "    dZ1 = np.dot(W2.T, dZ2) * ReLU_derivative(Z1)\n",
    "    dW1 = (1/m)*np.dot(dZ1, X.T)\n",
    "    db1 = (1/m)*np.sum(dZ1, axis=1, keepdims=True)\n",
    "    return dW1, db1, dW2, db2"
   ]
  },
  {
   "cell_type": "code",
   "execution_count": 242,
   "metadata": {},
   "outputs": [],
   "source": [
    "def update_params(W1, b1, W2, b2, dW1, db1, dW2, db2, alpha):\n",
    "    W1 = W1 - alpha*dW1\n",
    "    b1 = b1 - alpha*db1\n",
    "    W2 = W2 - alpha*dW2\n",
    "    b2 = b2 - alpha*db2\n",
    "    return W1, b1, W2, b2"
   ]
  },
  {
   "cell_type": "code",
   "execution_count": 243,
   "metadata": {},
   "outputs": [],
   "source": [
    "def get_predictions(A2):\n",
    "    return np.argmax(A2, 0)\n",
    "def get_accuracy(predictions, y):\n",
    "    print(predictions, y)\n",
    "    return np.sum(predictions==y)/y.size"
   ]
  },
  {
   "cell_type": "code",
   "execution_count": 244,
   "metadata": {},
   "outputs": [],
   "source": [
    "def gradient_descent(X, y, iterations, alpha):\n",
    "    W1, b1, W2, b2 = init_params()\n",
    "    for i in range(iterations):\n",
    "        Z1, A1, Z2, A2 = forward_prop(X, W1, b1, W2, b2)\n",
    "        dW1, db1, dW2, db2 = backprop(Z1, A1, Z2, A2, W2, X, y)\n",
    "        W1, b1, W2, b2 = update_params(W1, b1, W2, b2, dW1, db1, dW2, db2, alpha)\n",
    "        if i%10==0:\n",
    "            print(f'Iteration: {i}, Accuracy: {get_accuracy(get_predictions(A2), y):.2f}')\n",
    "    return W1, b1, W2, b2"
   ]
  },
  {
   "cell_type": "code",
   "execution_count": 245,
   "metadata": {},
   "outputs": [
    {
     "name": "stdout",
     "output_type": "stream",
     "text": [
      "[9 7 5 ... 9 9 9] [3 6 8 ... 0 1 6]\n",
      "Iteration: 0, Accuracy: 0.11\n",
      "[2 5 8 ... 8 7 4] [3 6 8 ... 0 1 6]\n",
      "Iteration: 10, Accuracy: 0.22\n",
      "[7 3 8 ... 4 7 4] [3 6 8 ... 0 1 6]\n",
      "Iteration: 20, Accuracy: 0.32\n",
      "[7 3 8 ... 8 1 4] [3 6 8 ... 0 1 6]\n",
      "Iteration: 30, Accuracy: 0.39\n",
      "[7 3 8 ... 8 1 3] [3 6 8 ... 0 1 6]\n",
      "Iteration: 40, Accuracy: 0.44\n",
      "[7 3 8 ... 8 1 3] [3 6 8 ... 0 1 6]\n",
      "Iteration: 50, Accuracy: 0.48\n",
      "[7 3 8 ... 5 1 3] [3 6 8 ... 0 1 6]\n",
      "Iteration: 60, Accuracy: 0.51\n",
      "[7 3 8 ... 5 1 6] [3 6 8 ... 0 1 6]\n",
      "Iteration: 70, Accuracy: 0.54\n",
      "[7 5 8 ... 5 1 6] [3 6 8 ... 0 1 6]\n",
      "Iteration: 80, Accuracy: 0.57\n",
      "[7 5 8 ... 5 1 6] [3 6 8 ... 0 1 6]\n",
      "Iteration: 90, Accuracy: 0.61\n",
      "[7 5 8 ... 5 1 6] [3 6 8 ... 0 1 6]\n",
      "Iteration: 100, Accuracy: 0.64\n",
      "[7 5 8 ... 5 1 6] [3 6 8 ... 0 1 6]\n",
      "Iteration: 110, Accuracy: 0.66\n",
      "[7 6 8 ... 5 1 6] [3 6 8 ... 0 1 6]\n",
      "Iteration: 120, Accuracy: 0.68\n",
      "[7 6 8 ... 5 1 6] [3 6 8 ... 0 1 6]\n",
      "Iteration: 130, Accuracy: 0.70\n",
      "[7 6 8 ... 5 1 6] [3 6 8 ... 0 1 6]\n",
      "Iteration: 140, Accuracy: 0.72\n",
      "[9 6 8 ... 5 1 6] [3 6 8 ... 0 1 6]\n",
      "Iteration: 150, Accuracy: 0.73\n",
      "[9 6 8 ... 5 1 6] [3 6 8 ... 0 1 6]\n",
      "Iteration: 160, Accuracy: 0.75\n",
      "[9 6 8 ... 5 1 6] [3 6 8 ... 0 1 6]\n",
      "Iteration: 170, Accuracy: 0.76\n",
      "[9 6 8 ... 5 1 6] [3 6 8 ... 0 1 6]\n",
      "Iteration: 180, Accuracy: 0.76\n",
      "[9 6 8 ... 5 1 6] [3 6 8 ... 0 1 6]\n",
      "Iteration: 190, Accuracy: 0.77\n",
      "[9 6 8 ... 5 1 6] [3 6 8 ... 0 1 6]\n",
      "Iteration: 200, Accuracy: 0.78\n",
      "[9 6 8 ... 5 1 6] [3 6 8 ... 0 1 6]\n",
      "Iteration: 210, Accuracy: 0.79\n",
      "[9 6 8 ... 5 1 6] [3 6 8 ... 0 1 6]\n",
      "Iteration: 220, Accuracy: 0.79\n",
      "[9 6 8 ... 5 1 6] [3 6 8 ... 0 1 6]\n",
      "Iteration: 230, Accuracy: 0.80\n",
      "[9 6 8 ... 5 1 6] [3 6 8 ... 0 1 6]\n",
      "Iteration: 240, Accuracy: 0.80\n",
      "[9 6 8 ... 5 1 6] [3 6 8 ... 0 1 6]\n",
      "Iteration: 250, Accuracy: 0.81\n",
      "[9 6 8 ... 5 1 6] [3 6 8 ... 0 1 6]\n",
      "Iteration: 260, Accuracy: 0.81\n",
      "[9 6 8 ... 5 1 6] [3 6 8 ... 0 1 6]\n",
      "Iteration: 270, Accuracy: 0.81\n",
      "[9 6 8 ... 5 1 6] [3 6 8 ... 0 1 6]\n",
      "Iteration: 280, Accuracy: 0.82\n",
      "[9 6 8 ... 5 1 6] [3 6 8 ... 0 1 6]\n",
      "Iteration: 290, Accuracy: 0.82\n",
      "[9 6 8 ... 5 1 6] [3 6 8 ... 0 1 6]\n",
      "Iteration: 300, Accuracy: 0.82\n",
      "[9 6 8 ... 5 1 6] [3 6 8 ... 0 1 6]\n",
      "Iteration: 310, Accuracy: 0.82\n",
      "[9 6 8 ... 5 1 6] [3 6 8 ... 0 1 6]\n",
      "Iteration: 320, Accuracy: 0.83\n",
      "[9 6 8 ... 5 1 6] [3 6 8 ... 0 1 6]\n",
      "Iteration: 330, Accuracy: 0.83\n",
      "[9 6 8 ... 5 1 6] [3 6 8 ... 0 1 6]\n",
      "Iteration: 340, Accuracy: 0.83\n",
      "[9 6 8 ... 5 1 6] [3 6 8 ... 0 1 6]\n",
      "Iteration: 350, Accuracy: 0.83\n",
      "[9 6 8 ... 5 1 6] [3 6 8 ... 0 1 6]\n",
      "Iteration: 360, Accuracy: 0.83\n",
      "[9 6 8 ... 5 1 6] [3 6 8 ... 0 1 6]\n",
      "Iteration: 370, Accuracy: 0.84\n",
      "[9 6 8 ... 5 1 6] [3 6 8 ... 0 1 6]\n",
      "Iteration: 380, Accuracy: 0.84\n",
      "[9 6 8 ... 5 1 6] [3 6 8 ... 0 1 6]\n",
      "Iteration: 390, Accuracy: 0.84\n",
      "[9 6 8 ... 5 1 6] [3 6 8 ... 0 1 6]\n",
      "Iteration: 400, Accuracy: 0.84\n",
      "[9 6 8 ... 5 1 6] [3 6 8 ... 0 1 6]\n",
      "Iteration: 410, Accuracy: 0.84\n",
      "[9 6 8 ... 5 1 6] [3 6 8 ... 0 1 6]\n",
      "Iteration: 420, Accuracy: 0.85\n",
      "[9 6 8 ... 5 1 6] [3 6 8 ... 0 1 6]\n",
      "Iteration: 430, Accuracy: 0.85\n",
      "[9 6 8 ... 5 1 6] [3 6 8 ... 0 1 6]\n",
      "Iteration: 440, Accuracy: 0.85\n",
      "[9 6 8 ... 5 1 6] [3 6 8 ... 0 1 6]\n",
      "Iteration: 450, Accuracy: 0.85\n",
      "[9 6 8 ... 5 1 6] [3 6 8 ... 0 1 6]\n",
      "Iteration: 460, Accuracy: 0.85\n",
      "[9 6 8 ... 5 1 6] [3 6 8 ... 0 1 6]\n",
      "Iteration: 470, Accuracy: 0.85\n",
      "[9 6 8 ... 5 1 6] [3 6 8 ... 0 1 6]\n",
      "Iteration: 480, Accuracy: 0.85\n",
      "[9 6 8 ... 5 1 6] [3 6 8 ... 0 1 6]\n",
      "Iteration: 490, Accuracy: 0.86\n"
     ]
    }
   ],
   "source": [
    "W1, b1, W2, b2 = gradient_descent(X_train, y_train, 500, 0.1)"
   ]
  },
  {
   "cell_type": "code",
   "execution_count": 254,
   "metadata": {},
   "outputs": [],
   "source": [
    "def make_predictions(X, W1, b1, W2, b2):\n",
    "    _, _, _, A2 = forward_prop(X, W1, b1, W2, b2)\n",
    "    predictions = get_predictions(A2)\n",
    "    return predictions\n",
    "\n",
    "def test_prediction(index, W1, b1, W2, b2):\n",
    "    current_image = X_train[:, index, None]\n",
    "    prediction = make_predictions(X_train[:, index, None], W1, b1, W2, b2)\n",
    "    label = y_train[index]\n",
    "    print(\"Prediction: \", prediction)\n",
    "    print(\"Label: \", label)\n",
    "    current_image = current_image.reshape((28, 28)) * 255\n",
    "    plt.gray()\n",
    "    plt.imshow(current_image, interpolation='nearest')\n",
    "    plt.show()"
   ]
  },
  {
   "cell_type": "code",
   "execution_count": 255,
   "metadata": {},
   "outputs": [
    {
     "name": "stdout",
     "output_type": "stream",
     "text": [
      "Prediction:  [9]\n",
      "Label:  3\n"
     ]
    },
    {
     "data": {
      "image/png": "[encoded data removed]",
      "text/plain": [
       "<Figure size 640x480 with 1 Axes>"
      ]
     },
     "metadata": {},
     "output_type": "display_data"
    },
    {
     "name": "stdout",
     "output_type": "stream",
     "text": [
      "Prediction:  [6]\n",
      "Label:  6\n"
     ]
    },
    {
     "data": {
      "image/png": "[encoded data removed]",
      "text/plain": [
       "<Figure size 640x480 with 1 Axes>"
      ]
     },
     "metadata": {},
     "output_type": "display_data"
    },
    {
     "name": "stdout",
     "output_type": "stream",
     "text": [
      "Prediction:  [8]\n",
      "Label:  8\n"
     ]
    },
    {
     "data": {
      "image/png": "[encoded data removed]",
      "text/plain": [
       "<Figure size 640x480 with 1 Axes>"
      ]
     },
     "metadata": {},
     "output_type": "display_data"
    },
    {
     "name": "stdout",
     "output_type": "stream",
     "text": [
      "Prediction:  [2]\n",
      "Label:  2\n"
     ]
    },
    {
     "data": {
      "image/png": "[encoded data removed]",
      "text/plain": [
       "<Figure size 640x480 with 1 Axes>"
      ]
     },
     "metadata": {},
     "output_type": "display_data"
    }
   ],
   "source": [
    "test_prediction(0, W1, b1, W2, b2)\n",
    "test_prediction(1, W1, b1, W2, b2)\n",
    "test_prediction(2, W1, b1, W2, b2)\n",
    "test_prediction(3, W1, b1, W2, b2)"
   ]
  },
  {
   "cell_type": "code",
   "execution_count": null,
   "metadata": {},
   "outputs": [],
   "source": []
  }
 ],
 "metadata": {
  "kernelspec": {
   "display_name": "Python 3",
   "language": "python",
   "name": "python3"
  },
  "language_info": {
   "codemirror_mode": {
    "name": "ipython",
    "version": 3
   },
   "file_extension": ".py",
   "mimetype": "text/x-python",
   "name": "python",
   "nbconvert_exporter": "python",
   "pygments_lexer": "ipython3",
   "version": "3.10.7"
  }
 },
 "nbformat": 4,
 "nbformat_minor": 2
}
